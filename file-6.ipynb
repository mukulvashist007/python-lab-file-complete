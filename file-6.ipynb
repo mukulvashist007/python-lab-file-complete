{
 "cells": [
  {
   "cell_type": "code",
   "execution_count": 4,
   "metadata": {},
   "outputs": [
    {
     "name": "stdout",
     "output_type": "stream",
     "text": [
      "num1 \n",
      "3\n",
      "num2 \n",
      "8\n",
      "24\n"
     ]
    }
   ],
   "source": [
    "#Q1. Write a program to multiply two numbers using functions.\n",
    "def mul(a,b):\n",
    "    c= a*b\n",
    "    return(c)\n",
    "a= int(input(\"num1 \\n\"))\n",
    "b=int(input(\"num2 \\n\"))\n",
    "c= mul(a,b)\n",
    "print(c)"
   ]
  },
  {
   "cell_type": "code",
   "execution_count": 8,
   "metadata": {},
   "outputs": [
    {
     "name": "stdout",
     "output_type": "stream",
     "text": [
      "num1:\n",
      "3\n",
      "num2: \n",
      "9\n",
      "12\n"
     ]
    }
   ],
   "source": [
    "#Q2. Write a program to add two numbers using functions.\n",
    "def add(a,b):\n",
    "    c=a+b\n",
    "    return(c)\n",
    "\n",
    "a= int(input(\"num1:\\n\"))\n",
    "b= int(input(\"num2: \\n\"))\n",
    "c= add(a,b)\n",
    "print(c)\n"
   ]
  },
  {
   "cell_type": "code",
   "execution_count": 1,
   "metadata": {},
   "outputs": [
    {
     "name": "stdout",
     "output_type": "stream",
     "text": [
      "enter a number: \n",
      "6\n",
      "720\n"
     ]
    }
   ],
   "source": [
    "#Q3. Calculate factorial of a number using fuctions.\n",
    "def fact(n):\n",
    "    fact=1\n",
    "    for i in range(n,0,-1):\n",
    "        fact= fact*i\n",
    "    return(fact)\n",
    "\n",
    "n= int(input(\"enter a number: \\n\"))\n",
    "b= fact(n)\n",
    "print(b)"
   ]
  },
  {
   "cell_type": "code",
   "execution_count": 1,
   "metadata": {},
   "outputs": [
    {
     "name": "stdout",
     "output_type": "stream",
     "text": [
      "enter limit: \n",
      "5\n",
      "1\n",
      "2\n",
      "3\n",
      "5\n",
      "8\n"
     ]
    }
   ],
   "source": [
    "#Q4. Create a sequence of fibonacci using functions.\n",
    "def fib(m):\n",
    "    a=0\n",
    "    b=1\n",
    "    for i in range(m):\n",
    "        sum=a+b\n",
    "        print(sum)\n",
    "        a=b\n",
    "        b=sum\n",
    "v= int(input(\"enter limit: \\n\"))\n",
    "fib(v)"
   ]
  },
  {
   "cell_type": "code",
   "execution_count": 6,
   "metadata": {},
   "outputs": [
    {
     "name": "stdout",
     "output_type": "stream",
     "text": [
      "value of first number:\n",
      "22\n",
      "value of second number:\n",
      "55\n",
      "a is:\n",
      " 22\n",
      "b is: \n",
      " 55\n",
      "after swapping\n",
      "value of a is:\n",
      " 55\n",
      "value of b is:\n",
      " 22\n"
     ]
    }
   ],
   "source": [
    "#Q5. Write a program to swap two numebrs using functions.\n",
    "a= int(input(\"value of first number:\\n\"))\n",
    "b= int(input(\"value of second number:\\n\"))\n",
    "print(\"a is:\\n\",a)\n",
    "print(\"b is: \\n\",b)\n",
    "temp=a\n",
    "a=b\n",
    "b=temp\n",
    "print(\"after swapping\")\n",
    "print(\"value of a is:\\n\",a)\n",
    "print(\"value of b is:\\n\", b)\n",
    "\n",
    "\n"
   ]
  },
  {
   "cell_type": "code",
   "execution_count": 10,
   "metadata": {},
   "outputs": [
    {
     "name": "stdout",
     "output_type": "stream",
     "text": [
      "hcf is:\n",
      " 22\n"
     ]
    }
   ],
   "source": [
    "#Q6.Write a function to find the HCF of some given numbers.\n",
    "def hcf(x,y):\n",
    "    if(x<y):\n",
    "        small= x\n",
    "    else:\n",
    "        small= y\n",
    "    for i in range(1, small+1):\n",
    "        if(x%i==0 and y%1==0):\n",
    "            hcf=i\n",
    "    return hcf\n",
    "\n",
    "a= 22\n",
    "b=44\n",
    "print(\"hcf is:\\n\", hcf(a,b))\n",
    "    \n"
   ]
  },
  {
   "cell_type": "code",
   "execution_count": 14,
   "metadata": {},
   "outputs": [
    {
     "name": "stdout",
     "output_type": "stream",
     "text": [
      "enter value:\n",
      " 46\n",
      ".\n"
     ]
    }
   ],
   "source": [
    "#Q7. Write a function to find the ASCII value of the character.\n",
    "a= int(input(\"enter value:\\n \"))\n",
    "print(chr(a))"
   ]
  },
  {
   "cell_type": "code",
   "execution_count": 31,
   "metadata": {},
   "outputs": [
    {
     "name": "stdout",
     "output_type": "stream",
     "text": [
      "6\n",
      "5\n",
      "5.7\n",
      "720\n",
      "6.0\n",
      "2\n"
     ]
    }
   ],
   "source": [
    "#Q8. Write a program that demonstrates the (built in function) mathematical functions.\n",
    "import math\n",
    "a=5.7\n",
    "b=6\n",
    "print(math.ceil(a))\n",
    "print(math.floor(a))\n",
    "print(math.fabs(a))\n",
    "print(math.factorial(b))\n",
    "print(math.copysign(b,a))\n",
    "print(math.gcd(6,8))\n"
   ]
  },
  {
   "cell_type": "code",
   "execution_count": 36,
   "metadata": {},
   "outputs": [
    {
     "name": "stdout",
     "output_type": "stream",
     "text": [
      "1586087501.772086\n",
      "time.struct_time(tm_year=2020, tm_mon=4, tm_mday=5, tm_hour=11, tm_min=51, tm_sec=41, tm_wday=6, tm_yday=96, tm_isdst=0)\n",
      "Sun Apr  5 17:21:41 2020\n",
      "Sun Apr  5 17:21:41 2020\n"
     ]
    }
   ],
   "source": [
    "#Q9. Write a program that demonstrates the (built in function) Date & Time functions.\n",
    "import time\n",
    "print(time.time())\n",
    "print(time.gmtime())\n",
    "print(time.asctime())\n",
    "print(time.ctime())"
   ]
  },
  {
   "cell_type": "code",
   "execution_count": 44,
   "metadata": {},
   "outputs": [
    {
     "name": "stdout",
     "output_type": "stream",
     "text": [
      "Hello Kate, Good morning!\n",
      "Hello Bruce, How do you do?\n"
     ]
    }
   ],
   "source": [
    "#Q10. Write a program that demonstrates default arguments.\n",
    "def greet(name, msg = \"Good morning!\"):\n",
    "   \n",
    "   print(\"Hello\",name + ', ' + msg)\n",
    "\n",
    "greet(\"Kate\")\n",
    "greet(\"Bruce\",\"How do you do?\")\n",
    "\n"
   ]
  },
  {
   "cell_type": "code",
   "execution_count": 45,
   "metadata": {},
   "outputs": [
    {
     "name": "stdout",
     "output_type": "stream",
     "text": [
      "first == hello\n",
      "mid == and\n",
      "last == bye\n"
     ]
    }
   ],
   "source": [
    "#Q11.  Write a program that demonstrates keyword arguments.\n",
    "def keyw(**abc):  \n",
    "    for key, value in abc.items(): \n",
    "        print (\"%s == %s\" %(key, value)) \n",
    "  \n",
    "\n",
    "keyw(first ='hello', mid ='and', last='bye')     "
   ]
  },
  {
   "cell_type": "code",
   "execution_count": 4,
   "metadata": {},
   "outputs": [
    {
     "name": "stdout",
     "output_type": "stream",
     "text": [
      "hello  I am Mahika.\n"
     ]
    }
   ],
   "source": [
    "#Q12.  Write a program that demonstrates default arguments.   \n",
    "def defaultArg(name, line=' I am Mahika.'):\n",
    "    print (name,line)\n",
    "defaultArg('hello')"
   ]
  },
  {
   "cell_type": "code",
   "execution_count": 7,
   "metadata": {},
   "outputs": [
    {
     "data": {
      "text/plain": [
       "3"
      ]
     },
     "execution_count": 7,
     "metadata": {},
     "output_type": "execute_result"
    }
   ],
   "source": [
    "#Q13.  Write a program that demonstrates variable-length arguments.\n",
    "def arg(*args):\n",
    "    result = args[0]\n",
    "    for num in args:\n",
    "        if num < result:\n",
    "            result = num\n",
    "    return result\n",
    "\n",
    "arg(4, 8, 6, 7, 3)\n"
   ]
  },
  {
   "cell_type": "code",
   "execution_count": null,
   "metadata": {},
   "outputs": [],
   "source": [
    "\n"
   ]
  }
 ],
 "metadata": {
  "kernelspec": {
   "display_name": "Python 3",
   "language": "python",
   "name": "python3"
  },
  "language_info": {
   "codemirror_mode": {
    "name": "ipython",
    "version": 3
   },
   "file_extension": ".py",
   "mimetype": "text/x-python",
   "name": "python",
   "nbconvert_exporter": "python",
   "pygments_lexer": "ipython3",
   "version": "3.7.4"
  }
 },
 "nbformat": 4,
 "nbformat_minor": 2
}
