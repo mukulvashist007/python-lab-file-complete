{
 "cells": [
  {
   "cell_type": "code",
   "execution_count": 8,
   "metadata": {},
   "outputs": [],
   "source": [
    "\n",
    "#creating a class in python\n",
    "class ABC:\n",
    "    var=\" create a class\"\n",
    "    \n",
    "    def fun1(self):\n",
    "        print(self.var)\n",
    "ob1= ABC()"
   ]
  },
  {
   "cell_type": "code",
   "execution_count": 5,
   "metadata": {},
   "outputs": [
    {
     "name": "stdout",
     "output_type": "stream",
     "text": [
      " create a class\n"
     ]
    }
   ],
   "source": [
    "ob1.fun1()"
   ]
  },
  {
   "cell_type": "code",
   "execution_count": 9,
   "metadata": {},
   "outputs": [
    {
     "name": "stdout",
     "output_type": "stream",
     "text": [
      " create a class\n"
     ]
    }
   ],
   "source": [
    "ob1.var\n",
    "print(ob1.var)"
   ]
  },
  {
   "cell_type": "code",
   "execution_count": 12,
   "metadata": {},
   "outputs": [
    {
     "name": "stdout",
     "output_type": "stream",
     "text": [
      "('mahika', 123, 88)\n"
     ]
    }
   ],
   "source": [
    "#create class student\n",
    "class Student:\n",
    "    name=\"\"\n",
    "    rollno=\"\"\n",
    "    marks=100\n",
    "    def basic_profile(self):\n",
    "        return (self.name, self.rollno, self.marks)\n",
    "st=Student()\n",
    "st.name=\"mahika\"\n",
    "st.rollno=123\n",
    "st.marks=88\n",
    "st.basic_profile()"
   ]
  },
  {
   "cell_type": "code",
   "execution_count": 16,
   "metadata": {},
   "outputs": [
    {
     "name": "stdout",
     "output_type": "stream",
     "text": [
      "10\n",
      "20\n"
     ]
    }
   ],
   "source": [
    "#Q1.Write a Python program that create a class tringle and define two methods, create_triangle() and print_sides().\n",
    "class Triangle:\n",
    "    a=0\n",
    "    b=0\n",
    "    def create_triangle(self, s1, s2):\n",
    "        self.a=s1\n",
    "        self.b=s2\n",
    "    def print_sides(self):\n",
    "        print(self.a)\n",
    "        print(self.b)\n",
    "ob1=Triangle()\n",
    "ob1.create_triangle(10,20)\n",
    "ob1.print_sides()"
   ]
  },
  {
   "cell_type": "code",
   "execution_count": 19,
   "metadata": {},
   "outputs": [
    {
     "name": "stdout",
     "output_type": "stream",
     "text": [
      "perimeter 1600\n"
     ]
    }
   ],
   "source": [
    "#Q3. Write a Python program to create a class Rectangle that takes the parameter length and width.\n",
    "#The class should also contain a method for computing its perimeter.\n",
    "class Rectangle:\n",
    "    length=0.0\n",
    "    width=0.0\n",
    "    per=0.0\n",
    "    def rect_values(self,l,w):\n",
    "        self.length=l\n",
    "        self.width=w\n",
    "    def perimeter(self):\n",
    "            self.per=2*self.length*self.width\n",
    "            return(self.per)\n",
    "r1=Rectangle()\n",
    "r1.rect_values(20,40)\n",
    "k=r1.perimeter()\n",
    "print(\"perimeter\",k)\n"
   ]
  },
  {
   "cell_type": "code",
   "execution_count": 2,
   "metadata": {},
   "outputs": [
    {
     "name": "stdout",
     "output_type": "stream",
     "text": [
      "perimeter 87.92\n",
      "area 615.44\n"
     ]
    }
   ],
   "source": [
    "#Q4. .  Write a Python program to create a class Circle  that takes the parameter radius.\n",
    "#The class should also contain two methods for computing its area & perimeter respectively.\n",
    "class Circle:\n",
    "    radius=0\n",
    "    area=0\n",
    "    per=0\n",
    "    def circ_rad(self,radius):\n",
    "        self.radius=radius\n",
    "    def perimeter(self):\n",
    "        self.per=2*3.14*self.radius\n",
    "        return(self.per)\n",
    "    def area(self):\n",
    "        self.area=3.14*self.radius**2\n",
    "        return(self.area)\n",
    "c1=Circle()\n",
    "c1.circ_rad(14)\n",
    "k=c1.perimeter()\n",
    "l=c1.area()\n",
    "print(\"perimeter\",k)\n",
    "print(\"area\",l)\n"
   ]
  },
  {
   "cell_type": "code",
   "execution_count": null,
   "metadata": {},
   "outputs": [],
   "source": [
    "\n"
   ]
  },
  {
   "cell_type": "code",
   "execution_count": null,
   "metadata": {},
   "outputs": [],
   "source": []
  }
 ],
 "metadata": {
  "kernelspec": {
   "display_name": "Python 3",
   "language": "python",
   "name": "python3"
  },
  "language_info": {
   "codemirror_mode": {
    "name": "ipython",
    "version": 3
   },
   "file_extension": ".py",
   "mimetype": "text/x-python",
   "name": "python",
   "nbconvert_exporter": "python",
   "pygments_lexer": "ipython3",
   "version": "3.7.4"
  }
 },
 "nbformat": 4,
 "nbformat_minor": 2
}
