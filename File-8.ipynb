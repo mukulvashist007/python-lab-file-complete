{
 "cells": [
  {
   "cell_type": "code",
   "execution_count": 3,
   "metadata": {},
   "outputs": [
    {
     "name": "stdout",
     "output_type": "stream",
     "text": [
      "animals have 4 legs\n",
      "animals have 4 legs\n"
     ]
    }
   ],
   "source": [
    "#Q1.Write a Python program that has a class Animal with a method legs().\n",
    "#Create two subclasses Tiger and Dog, access the method leg explicitly with class Dog and implicitly with the class Tiger.  \n",
    "class Animal:\n",
    "    def legs(self):\n",
    "        print(\"animals have 4 legs\")\n",
    "class Tiger(Animal):\n",
    "    pass\n",
    "class Dog(Animal):\n",
    "    Animal().legs()\n",
    "Tiger().legs()"
   ]
  },
  {
   "cell_type": "code",
   "execution_count": 5,
   "metadata": {},
   "outputs": [
    {
     "name": "stdout",
     "output_type": "stream",
     "text": [
      "engineer\n",
      "manager\n"
     ]
    }
   ],
   "source": [
    "#Q2.Write a Python program to create a class Employee. Define two subclasses: Engineer and Manager. \n",
    "#Every class should have method named printDesignation() that prints Engineer for Engineer class and Manager for Manager Class.\n",
    "class Employee:\n",
    "    def printDesignation():\n",
    "        pass\n",
    "class Engineer(Employee):\n",
    "    def printDesignation():\n",
    "        print(\"engineer\")\n",
    "class Manager(Employee):\n",
    "    def printDesignation():\n",
    "        print(\"manager\")\n",
    "Engineer.printDesignation()\n",
    "Manager.printDesignation()\n",
    "    \n",
    "    "
   ]
  },
  {
   "cell_type": "code",
   "execution_count": 11,
   "metadata": {},
   "outputs": [
    {
     "name": "stdout",
     "output_type": "stream",
     "text": [
      "parent class\n",
      "parent class\n"
     ]
    }
   ],
   "source": [
    "#Q3.Write a Python program to demonstrate Inheritance and method overriding.\n",
    "class P:\n",
    "    def __init__(self):\n",
    "        self.p=\"parent class\"\n",
    "    def show(self):\n",
    "        print(self.p)\n",
    "class C(P):\n",
    "    def _init_self(self):\n",
    "        self.p= \"child class\"\n",
    "    def sho(self):\n",
    "        print(self.p)\n",
    "new= P()\n",
    "new1=C()\n",
    "new.show()\n",
    "new1.show()"
   ]
  },
  {
   "cell_type": "code",
   "execution_count": 14,
   "metadata": {},
   "outputs": [
    {
     "name": "stdout",
     "output_type": "stream",
     "text": [
      "A\n",
      "B\n",
      "C\n"
     ]
    }
   ],
   "source": [
    "#Q4.Write a Python program to demonstrate multiple Inheritance.\n",
    "class A:\n",
    "    def m(self):\n",
    "        print(\"A\")\n",
    "class B:\n",
    "    def n(self):\n",
    "        print(\"B\")\n",
    "class C(A,B):\n",
    "    def o(self):\n",
    "        print(\"C\")\n",
    "x= C()\n",
    "x.m()\n",
    "x.n()\n",
    "x.o()"
   ]
  },
  {
   "cell_type": "code",
   "execution_count": null,
   "metadata": {},
   "outputs": [],
   "source": []
  }
 ],
 "metadata": {
  "kernelspec": {
   "display_name": "Python 3",
   "language": "python",
   "name": "python3"
  },
  "language_info": {
   "codemirror_mode": {
    "name": "ipython",
    "version": 3
   },
   "file_extension": ".py",
   "mimetype": "text/x-python",
   "name": "python",
   "nbconvert_exporter": "python",
   "pygments_lexer": "ipython3",
   "version": "3.7.4"
  }
 },
 "nbformat": 4,
 "nbformat_minor": 2
}
