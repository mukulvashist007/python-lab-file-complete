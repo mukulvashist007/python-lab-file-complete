{
 "cells": [
  {
   "cell_type": "code",
   "execution_count": 6,
   "metadata": {},
   "outputs": [
    {
     "name": "stdout",
     "output_type": "stream",
     "text": [
      "{'A': 47, 'B': 46, 'C': 33}\n"
     ]
    }
   ],
   "source": [
    "#Q1. create a dcitionary\n",
    "class1 ={\"A\": 47, \"B\": 46, \"C\": 33}\n",
    "print(class1)"
   ]
  },
  {
   "cell_type": "code",
   "execution_count": 9,
   "metadata": {},
   "outputs": [
    {
     "name": "stdout",
     "output_type": "stream",
     "text": [
      "{12: 'mahika', 'sachin': 31, 'shiv': 33}\n"
     ]
    }
   ],
   "source": [
    "#Q2. print roll numbers and names of a dictionary\n",
    "class2= {12 :\"mahika\", 31:\"sachin\", 33:\"shiv\"}\n",
    "print(class2)"
   ]
  },
  {
   "cell_type": "code",
   "execution_count": 16,
   "metadata": {},
   "outputs": [
    {
     "name": "stdout",
     "output_type": "stream",
     "text": [
      "dict_items([('A', 47), ('B', 46), ('C', 33)])\n"
     ]
    }
   ],
   "source": [
    "#Q3. print all elements of a dictionary\n",
    "dict1={\"A\": 47, \"B\": 46, \"C\": 33}\n",
    "print(dict1.items())\n",
    "\n",
    "\n"
   ]
  },
  {
   "cell_type": "code",
   "execution_count": 21,
   "metadata": {},
   "outputs": [
    {
     "name": "stdout",
     "output_type": "stream",
     "text": [
      "{'B': 46, 'C': 33}\n"
     ]
    }
   ],
   "source": [
    "#Q4.delete an element from a dictionary.\n",
    "dict1={\"A\": 47, \"B\": 46, \"C\": 33}\n",
    "del dict1[\"A\"]\n",
    "print(dict1)\n",
    "\n"
   ]
  },
  {
   "cell_type": "code",
   "execution_count": 22,
   "metadata": {},
   "outputs": [
    {
     "name": "stdout",
     "output_type": "stream",
     "text": [
      "12 mahika\n",
      "sachin 31\n",
      "shiv 33\n"
     ]
    }
   ],
   "source": [
    "#Q5. print elements of a dictionary using for loop\n",
    "for key, value in class2.items():\n",
    "    print(key,value)"
   ]
  },
  {
   "cell_type": "code",
   "execution_count": 28,
   "metadata": {},
   "outputs": [
    {
     "name": "stdout",
     "output_type": "stream",
     "text": [
      "{'mango': 'fruit', 'banana': 'fruit', 'tomato': 'veggie', 'potato': 'veggie'}\n",
      "mango is a fruit\n"
     ]
    }
   ],
   "source": [
    "# Q6. use if loop\n",
    "dict2={\"mango\":\"fruit\", \"banana\": \"fruit\", \"tomato\":\"veggie\", \"potato\":\"veggie\"}\n",
    "print(dict2)\n",
    "if ('mango in dict2'):\n",
    "    print(\"mango is a fruit\")\n",
    "else:\n",
    "    ('nope nope')\n"
   ]
  },
  {
   "cell_type": "code",
   "execution_count": 1,
   "metadata": {},
   "outputs": [
    {
     "name": "stdout",
     "output_type": "stream",
     "text": [
      "{'A': 'x', 'b': 33, 'C': 5}\n"
     ]
    }
   ],
   "source": [
    "# Q7. printing a single value\n",
    "dict1={\"A\":42, \"b\":33, \"C\":5}\n",
    "dict1[\"A\"]='x'\n",
    "print(dict1)\n",
    "\n",
    "\n"
   ]
  },
  {
   "cell_type": "code",
   "execution_count": 1,
   "metadata": {},
   "outputs": [
    {
     "name": "stdout",
     "output_type": "stream",
     "text": [
      "dict_items([('A', [1, 2, 3, 4]), ('b', [5, 6, 7]), ('C', [8, 9, 0])])\n"
     ]
    }
   ],
   "source": [
    "# Q8. \n",
    "dict1={\"A\":[1,2,3,4], \"b\":[5,6,7], \"C\":[8,9,0]}\n",
    "print(dict1.items())"
   ]
  },
  {
   "cell_type": "code",
   "execution_count": 3,
   "metadata": {},
   "outputs": [
    {
     "name": "stdout",
     "output_type": "stream",
     "text": [
      "dict_items([('A', [1, 2, 3, 4]), ('B', [5, 6, 7]), ('C', [8, 9, 0])])\n"
     ]
    }
   ],
   "source": [
    "#Q9.\n",
    "dict1={\"A\":[1,2,3,4], \"B\":[5,6,7], \"C\":[8,9,0]}\n",
    "print(dict1.items())\n"
   ]
  },
  {
   "cell_type": "code",
   "execution_count": 36,
   "metadata": {},
   "outputs": [
    {
     "name": "stdout",
     "output_type": "stream",
     "text": [
      "{'A': 20, 'B': 15, 'C': 12} {'A': 12, 'B': 32, 'C': 44}\n"
     ]
    }
   ],
   "source": [
    "# Q10. compare\n",
    "dict1={\"A\":20, \"B\":15, \"C\":12}\n",
    "dict2={\"A\":12, \"B\":32, \"C\":44}\n",
    "print(dict1, dict2)"
   ]
  },
  {
   "cell_type": "code",
   "execution_count": 38,
   "metadata": {},
   "outputs": [
    {
     "name": "stdout",
     "output_type": "stream",
     "text": [
      "{1: 1, 2: 4, 3: 9, 4: 16, 5: 25, 6: 36, 7: 49, 8: 64, 9: 81, 10: 100}\n"
     ]
    }
   ],
   "source": [
    "#Q11. square of keys\n",
    "dict1={}\n",
    "for key in range(1,11):\n",
    "    dict1[key]=key*key\n",
    "print(dict1)"
   ]
  },
  {
   "cell_type": "code",
   "execution_count": 45,
   "metadata": {},
   "outputs": [
    {
     "name": "stdout",
     "output_type": "stream",
     "text": [
      "{'A': 12, 1: 77, 5: {'B': 22, 'C': 32}}\n"
     ]
    }
   ],
   "source": [
    "#Q12.\n",
    "dcit={\"A\":12, 1:77, 5:{\"B\":22, \"C\":32}}\n",
    "print(dcit)"
   ]
  },
  {
   "cell_type": "code",
   "execution_count": 49,
   "metadata": {},
   "outputs": [
    {
     "name": "stdout",
     "output_type": "stream",
     "text": [
      "{1: 'A', 'b': 'er', 2: 'B', 'der': 5, 3: 'F'}\n"
     ]
    }
   ],
   "source": [
    "#Q13.\n",
    "d1={1:\"A\", \"b\":\"er\"}\n",
    "d2={2:\"B\",\"der\":5}\n",
    "d3={3:\"F\"}\n",
    "d4={}\n",
    "for d in (d1, d2, d3):\n",
    "    d4.update(d)\n",
    "print(d4)"
   ]
  },
  {
   "cell_type": "code",
   "execution_count": 50,
   "metadata": {},
   "outputs": [],
   "source": [
    "#Q14. sum\n",
    "d1={\"A\":\"ser\", \"C\":33}\n",
    "d2={5:\"erf\", \"S\":5}\n"
   ]
  },
  {
   "cell_type": "code",
   "execution_count": 51,
   "metadata": {},
   "outputs": [],
   "source": [
    "#Q15. accessing an element of a nested dictionary\n"
   ]
  },
  {
   "cell_type": "code",
   "execution_count": null,
   "metadata": {},
   "outputs": [],
   "source": [
    "#Q16. factorial \n"
   ]
  }
 ],
 "metadata": {
  "kernelspec": {
   "display_name": "Python 3",
   "language": "python",
   "name": "python3"
  },
  "language_info": {
   "codemirror_mode": {
    "name": "ipython",
    "version": 3
   },
   "file_extension": ".py",
   "mimetype": "text/x-python",
   "name": "python",
   "nbconvert_exporter": "python",
   "pygments_lexer": "ipython3",
   "version": "3.7.4"
  }
 },
 "nbformat": 4,
 "nbformat_minor": 2
}
